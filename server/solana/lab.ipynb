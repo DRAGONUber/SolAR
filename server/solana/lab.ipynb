{
 "cells": [
  {
   "cell_type": "code",
   "execution_count": 57,
   "metadata": {},
   "outputs": [],
   "source": [
    "import asyncio\n",
    "import json\n",
    "from anchorpy import Program, Provider, Wallet, Idl, Context\n",
    "from solana.rpc.async_api import AsyncClient\n",
    "from solders.pubkey import Pubkey\n",
    "from solders.keypair import Keypair\n",
    "from solders.account import Account"
   ]
  },
  {
   "cell_type": "code",
   "execution_count": null,
   "metadata": {},
   "outputs": [
    {
     "name": "stdout",
     "output_type": "stream",
     "text": [
      "IDL loaded: Idl(Idl { version: \"0.1.0\", name: \"git_solana\", docs: None, constants: [], instructions: [IdlInstruction { name: \"createRepo\", docs: None, accounts: [IdlAccount(IdlAccount { name: \"repo\", is_mut: true, is_signer: true, is_optional: None, docs: None, pda: None, relations: [] }), IdlAccount(IdlAccount { name: \"signer\", is_mut: true, is_signer: true, is_optional: None, docs: None, pda: None, relations: [] }), IdlAccount(IdlAccount { name: \"systemProgram\", is_mut: false, is_signer: false, is_optional: None, docs: None, pda: None, relations: [] })], args: [IdlField { name: \"name\", docs: None, ty: String }], returns: None }, IdlInstruction { name: \"addCollaborator\", docs: None, accounts: [IdlAccount(IdlAccount { name: \"repo\", is_mut: true, is_signer: false, is_optional: None, docs: None, pda: None, relations: [] }), IdlAccount(IdlAccount { name: \"owner\", is_mut: true, is_signer: true, is_optional: None, docs: None, pda: None, relations: [] })], args: [IdlField { name: \"newCollaborator\", docs: None, ty: PublicKey }], returns: None }], accounts: [IdlTypeDefinition { name: \"Repository\", docs: None, generics: None, ty: Struct { fields: [IdlField { name: \"owner\", docs: None, ty: PublicKey }, IdlField { name: \"name\", docs: None, ty: String }, IdlField { name: \"collaborators\", docs: None, ty: Vec(PublicKey) }, IdlField { name: \"branches\", docs: None, ty: Vec(Defined(\"Branch\")) }] } }], types: [IdlTypeDefinition { name: \"Branch\", docs: None, generics: None, ty: Struct { fields: [IdlField { name: \"name\", docs: None, ty: String }, IdlField { name: \"commit\", docs: None, ty: Defined(\"CommitReference\") }] } }, IdlTypeDefinition { name: \"CommitReference\", docs: None, generics: None, ty: Struct { fields: [IdlField { name: \"commitHash\", docs: None, ty: String }, IdlField { name: \"arweaveTx\", docs: None, ty: String }] } }, IdlTypeDefinition { name: \"GitError\", docs: None, generics: None, ty: Enum { variants: [IdlEnumVariant { name: \"Unauthorized\", fields: None }] } }], events: None, errors: None, metadata: Some(Object {\"address\": String(\"5TQo5Bf6yXp9uywEFbp9YKUyveD2pe2LVXRjY2aWRup5\")}) })\n",
      "Calling create_repo...\n",
      "Repository created, tx: 4veZKfMMNGEfaHcS6rW4g45LU6fgq6Wcb1DYuF6cJmmo8ffL8yfFodVWbVZcG95gvdCjPvSy85Jn9E8tVwNkbF2q\n"
     ]
    },
    {
     "ename": "ValueError",
     "evalue": "String is the wrong size",
     "output_type": "error",
     "traceback": [
      "\u001b[31m---------------------------------------------------------------------------\u001b[39m",
      "\u001b[31mValueError\u001b[39m                                Traceback (most recent call last)",
      "\u001b[36mCell\u001b[39m\u001b[36m \u001b[39m\u001b[32mIn[71]\u001b[39m\u001b[32m, line 57\u001b[39m\n\u001b[32m     52\u001b[39m     \u001b[38;5;28mprint\u001b[39m(\u001b[33m\"\u001b[39m\u001b[33mCollaborator added, tx:\u001b[39m\u001b[33m\"\u001b[39m, tx_add)\n\u001b[32m     54\u001b[39m     \u001b[38;5;28;01mawait\u001b[39;00m client.close()\n\u001b[32m---> \u001b[39m\u001b[32m57\u001b[39m \u001b[38;5;28;01mawait\u001b[39;00m main()\n",
      "\u001b[36mCell\u001b[39m\u001b[36m \u001b[39m\u001b[32mIn[71]\u001b[39m\u001b[32m, line 44\u001b[39m, in \u001b[36mmain\u001b[39m\u001b[34m()\u001b[39m\n\u001b[32m     40\u001b[39m \u001b[38;5;28mprint\u001b[39m(\u001b[33m\"\u001b[39m\u001b[33mRepository created, tx:\u001b[39m\u001b[33m\"\u001b[39m, tx_create)\n\u001b[32m     42\u001b[39m \u001b[38;5;66;03m# --- Call add_collaborator ---\u001b[39;00m\n\u001b[32m     43\u001b[39m \u001b[38;5;66;03m# Replace with an actual collaborator public key as needed.\u001b[39;00m\n\u001b[32m---> \u001b[39m\u001b[32m44\u001b[39m new_collaborator = \u001b[43mPubkey\u001b[49m\u001b[43m.\u001b[49m\u001b[43mfrom_string\u001b[49m\u001b[43m(\u001b[49m\u001b[33;43m\"\u001b[39;49m\u001b[33;43mAnExampleCollaboratorPublicKey11111111111111111111\u001b[39;49m\u001b[33;43m\"\u001b[39;49m\u001b[43m)\u001b[49m\n\u001b[32m     45\u001b[39m \u001b[38;5;28mprint\u001b[39m(\u001b[33m\"\u001b[39m\u001b[33mCalling add_collaborator...\u001b[39m\u001b[33m\"\u001b[39m)\n\u001b[32m     46\u001b[39m tx_add = \u001b[38;5;28;01mawait\u001b[39;00m program.rpc[\u001b[33m\"\u001b[39m\u001b[33madd_collaborator\u001b[39m\u001b[33m\"\u001b[39m](new_collaborator, ctx=Context(\n\u001b[32m     47\u001b[39m     accounts={\n\u001b[32m     48\u001b[39m         \u001b[33m\"\u001b[39m\u001b[33mrepo\u001b[39m\u001b[33m\"\u001b[39m: repo_account.pubkey(),\n\u001b[32m     49\u001b[39m         \u001b[33m\"\u001b[39m\u001b[33mowner\u001b[39m\u001b[33m\"\u001b[39m: wallet.public_key,\n\u001b[32m     50\u001b[39m     }\n\u001b[32m     51\u001b[39m ))\n",
      "\u001b[31mValueError\u001b[39m: String is the wrong size"
     ]
    }
   ],
   "source": [
    "\n",
    "async def main():\n",
    "    # Connect to a local Solana cluster (or devnet)\n",
    "    client = AsyncClient(\"http://localhost:8899\")\n",
    "    \n",
    "    # Load your wallet (defaults to ~/.config/solana/id.json)\n",
    "    wallet = Wallet.local()  # Ensure your wallet is set up appropriately\n",
    "    provider = Provider(client, wallet)\n",
    "    \n",
    "    # Read the IDL file as a raw JSON string\n",
    "    with open(\"../../git-solana/target/idl/git_solana.json\", \"r\") as f:\n",
    "        idl_json_str = f.read()\n",
    "    \n",
    "    # Convert the JSON string into an IDL object\n",
    "\n",
    "    idl = Idl.from_json(idl_json_str)\n",
    "    print(\"IDL loaded:\", idl)\n",
    "    \n",
    "    # Define your program ID using solders Pubkey\n",
    "    program_id = Pubkey.from_string(\"5TQo5Bf6yXp9uywEFbp9YKUyveD2pe2LVXRjY2aWRup5\")\n",
    "    \n",
    "    # Create a program client using the loaded IDL and program ID\n",
    "    program = Program(idl, program_id, provider)\n",
    "    \n",
    "    # Generate a new keypair for the repository account using solders Keypair\n",
    "    repo_account = Keypair()\n",
    "    \n",
    "    # --- Call create_repo ---\n",
    "    print(\"Calling create_repo...\")\n",
    "\n",
    "    tx_create = await program.rpc[\"create_repo\"](\"My Awesome Repo\", ctx=Context(\n",
    "        accounts={\n",
    "            \"repo\": repo_account.pubkey(),  # using solders Keypair property\n",
    "            \"signer\": wallet.public_key,   # ensure your wallet.public_key is compatible (or convert if necessary)\n",
    "            \"system_program\": Pubkey.from_string(\"11111111111111111111111111111111\"),\n",
    "        },\n",
    "        signers=[repo_account]  # The new repo account must sign since it is being created\n",
    "    ))\n",
    "\n",
    "\n",
    "    print(\"Repository created, tx:\", tx_create)\n",
    "    \n",
    "    # --- Call add_collaborator ---\n",
    "    # Replace with an actual collaborator public key as needed.\n",
    "    new_collaborator = Pubkey.from_string(\"4Kn1P7n6JwGHDm8KvtEickWbA4A3aWzaQn1tNPtyANGh\")\n",
    "    print(\"Calling add_collaborator...\")\n",
    "    tx_add = await program.rpc[\"add_collaborator\"](new_collaborator, ctx=Context(\n",
    "        accounts={\n",
    "            \"repo\": repo_account.pubkey(),\n",
    "            \"owner\": wallet.public_key,\n",
    "        }\n",
    "    ))\n",
    "    print(\"Collaborator added, tx:\", tx_add)\n",
    "    \n",
    "    await client.close()\n",
    "\n",
    "\n",
    "await main()"
   ]
  }
 ],
 "metadata": {
  "kernelspec": {
   "display_name": "venv",
   "language": "python",
   "name": "python3"
  },
  "language_info": {
   "codemirror_mode": {
    "name": "ipython",
    "version": 3
   },
   "file_extension": ".py",
   "mimetype": "text/x-python",
   "name": "python",
   "nbconvert_exporter": "python",
   "pygments_lexer": "ipython3",
   "version": "3.12.7"
  }
 },
 "nbformat": 4,
 "nbformat_minor": 2
}
