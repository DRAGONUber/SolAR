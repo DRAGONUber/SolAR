{
 "cells": [
  {
   "cell_type": "code",
   "execution_count": 120,
   "metadata": {},
   "outputs": [
    {
     "name": "stdout",
     "output_type": "stream",
     "text": [
      "Imports and helper functions ready.\n"
     ]
    }
   ],
   "source": [
    "import os\n",
    "import json\n",
    "import requests\n",
    "import arweave\n",
    "import time\n",
    "\n",
    "\n",
    "# Helper function to mine a given number of blocks\n",
    "def mine_blocks(n=1, port=1984):\n",
    "    mine_url = f\"http://localhost:{port}/mine/{n}\"\n",
    "    resp = requests.get(mine_url)\n",
    "    print(f\"Mined {n} block(s):\", resp.text)\n",
    "\n",
    "def get_tx_status(txid, port=1984):\n",
    "    status_url = f\"http://localhost:{port}/tx/{txid}/status\"\n",
    "    resp = requests.get(status_url)\n",
    "    if resp.status_code == 200:\n",
    "        return resp.json()\n",
    "    else:\n",
    "        return None\n",
    "\n",
    "print(\"Imports and helper functions ready.\")\n"
   ]
  },
  {
   "cell_type": "code",
   "execution_count": null,
   "metadata": {},
   "outputs": [],
   "source": []
  },
  {
   "cell_type": "code",
   "execution_count": 121,
   "metadata": {},
   "outputs": [
    {
     "name": "stdout",
     "output_type": "stream",
     "text": [
      "Loaded wallet with address: s_Li2WJNv45xS0ICR3B5kRQEuDEkXMMgFTsFx094SD4\n"
     ]
    }
   ],
   "source": [
    "# === 1. Load Arweave Wallet ===\n",
    "wallet_file = 'arweave-key.json'\n",
    "if not os.path.exists(wallet_file):\n",
    "    raise FileNotFoundError(f\"Wallet file '{wallet_file}' not found. Please place your Arweave wallet JSON in the working directory.\")\n",
    "\n",
    "wallet = arweave.Wallet(wallet_file)\n",
    "print(\"Loaded wallet with address:\", wallet.address)\n"
   ]
  },
  {
   "cell_type": "code",
   "execution_count": 122,
   "metadata": {},
   "outputs": [
    {
     "name": "stdout",
     "output_type": "stream",
     "text": [
      "Minting tokens for wallet...\n",
      "Mint response: 100000000000000\n",
      "Mined 1 block(s): {\n",
      "  \"network\": \"arlocal.N.1\",\n",
      "  \"version\": 1,\n",
      "  \"release\": 1,\n",
      "  \"queue_length\": 0,\n",
      "  \"peers\": 1,\n",
      "  \"height\": 67,\n",
      "  \"current\": \"7nf0qecd9j7ij62ixku28m2qksiw70tw5siphbaedptk6g56d7e1t8mim0g56n5v\",\n",
      "  \"blocks\": 68,\n",
      "  \"node_state_latency\": 0\n",
      "}\n",
      "Wallet balance (in Winston): 100000000000000\n",
      "Wallet balance (in AR): 100.0\n"
     ]
    }
   ],
   "source": [
    "port = 1984  # Adjust if your ArLocal is on a different port\n",
    "\n",
    "print(\"Minting tokens for wallet...\")\n",
    "\n",
    "mint_amount = 100000000000000  # 100k AR in Winston (adjust as needed)\n",
    "mint_url = f\"http://localhost:{port}/mint/{wallet.address}/{mint_amount}\"\n",
    "resp = requests.get(mint_url)\n",
    "print(\"Mint response:\", resp.text)\n",
    "\n",
    "# Mine 1 block to process the mint\n",
    "mine_blocks(1, port=port)\n",
    "\n",
    "# Check wallet balance\n",
    "balance_url = f\"http://localhost:{port}/wallet/{wallet.address}/balance\"\n",
    "balance_resp = requests.get(balance_url)\n",
    "if balance_resp.status_code == 200:\n",
    "    balance_winston = int(balance_resp.text)\n",
    "    balance_ar = balance_winston / 1e12\n",
    "    print(\"Wallet balance (in Winston):\", balance_winston)\n",
    "    print(\"Wallet balance (in AR):\", balance_ar)\n",
    "else:\n",
    "    print(\"Error retrieving wallet balance, status code:\", balance_resp.status_code)\n"
   ]
  },
  {
   "cell_type": "code",
   "execution_count": 123,
   "metadata": {},
   "outputs": [
    {
     "name": "stderr",
     "output_type": "stream",
     "text": [
      "Transaction verification failed.\n",
      "\n",
      "{\"data\":\"VGhpcyBpcyBhIHRlc3QgdXBsb2FkIGZyb20gb3VyIGRlY2VudHJhbGl6ZWQgR2l0IHNlcnZlciBNVlAu\",\"id\":\"GBSfQB9VBxFiRPYkN08YLvKA1T4ww1pgxc2WrrECN1Q\",\"last_tx\":\"2bVUmucQlKCpFkh0QMDEopqVkzvzs6X5eWM79xqIT-Cfe2_umNpcgH6aS4g83-M4\",\"owner\":\"ky-k3Tkp1W04fv027labDNmUOfltkGl6Zf4yBuXPMIEZYGpvV6e_5POd1GS2A34ir-Q8BJJPo_kDEogQKu1E0sofDvmIqxU9w6pWHSnDrvfRVFKqd5HU9Y6NVF4AydhpDoxw28GyI0W42qURA68uKkhzWJUiuZU7ek1LbAN9VoaESaXk9qj3Rp1JvAUWEwYUxQjHUvh2xUO4S0rAtsGjSj8T8it3qMvuPsAQDnuE_EmtEFVh0Osk60OLZaiA1sQj6OjmQ2_UEjuvau_A1RxeNtdKVgvCDhtg5zDveuxbe6-v846E8No0rWMlXQKRWX7dAvmX9iXllrjCarzkC3thm5AvYxkic_9nS6qRrVGibBnEsnhmHMhzvgtoEFkNbig2bbfreQYaCYXkk9waewlZgWpraROl8VHMLMsYjzyAKtkIFNRyKbu1_6v7av9KxdhHldzpNN7gLQKSTlfe_jkOTzn2lJsSFqu2HC4GyiXfTXdf51x-dEwsAAKx3_GyF4LatItODcSTyjAAuBrtxEiTzKjYO49To769tC_N1BJEArStB-2G0OlaDD1C4Fs4sc_DwEPb7n-zTnsMv04WIoUfKP20j8BpKq7fSe2LFhiTzN3auUkDLkV4js0_u2ePr1yPiCw_GioNdU3bWvh8OYcg57aUxOaho1ah2jxOSaqlPd0\",\"quantity\":\"0\",\"reward\":\"293857087\",\"signature\":\"fRHfM71jBH83zsp3JBvziRg_XEVBwIQg21ez4fL_W_AYRhXh77MJbwG072zCnqMmkWZ8Qb3orD4p7qlnYCVtxB2qld0iuWm8NJqWK7J1xQB4ohpzZGi2afVVzdrGCmzghRB0fTsrjd998P4g-tO2SMSyGAYVPJTfE0WkKd3M2JVayZPpCP2bSACdjCk3rzrvHioNvHZJvzbk_y445Vr9GwUF7i_xp7JCnrcmpmiv_p7wgwqkqrzoiwW-w70a6bfT23KiQZNVq_TSdUhCezC8b879fJ_eR6dIvkmkZ-2uOGrEc9VCrwALnZdpTjLBQ3xo192IivcT47NNsL68NAg_307lNLQlqnkweEq9ujE0OrPvssZTriAdSzlFzg3ZEJJq1enY9BucEJ0LvHY4GhefVKgJ7wMrySpUxAdonQ3ipVkObX4mHf3-5G4vos0xyWHXhId399XSxhUw77P4lDMUF3o_fLKbzgVOYs3z8AVUoOHTrsJewBpQuP7bScxDEaxQEPGdFUB68Ct1QmbdsayH53QJe6zAwWV-f00QK7herjKiPQnQQb_FKuMvVHh9rz-HT_O6u7nhihkm4JveqAr6VNSjz86m_JJcfHCjDPNw6HZDAr-fXW7-rqW0uEyZao8GyxYraJF7ZFag7jPTl9ttyIIA25eKdxXruQg2FD89Cws\",\"tags\":[{\"name\":\"VVRJNWRXUkhWblZrUXpGVlpWaENiQQ\",\"value\":\"WkVkV05HUkRPWGRpUjBad1ltYw\"},{\"name\":\"VlcxV2QySXdiRVU\",\"value\":\"V2xob2FHSllRbk5hVXpGNVdsaENkZw\"},{\"name\":\"VVRJNWRHSlhiREJUUjBaNllVRQ\",\"value\":\"V2toV2RHSllhM1JaTWpsMFlsZHNNRXhYYUdoak1tYw\"}],\"target\":\"\",\"format\":2,\"data_root\":\"MCStD1_gaq3A-klv9BO-R5CwgNPREuV3h41ZwicxA3c\",\"data_size\":\"60\",\"data_tree\":[]}\n"
     ]
    },
    {
     "name": "stdout",
     "output_type": "stream",
     "text": [
      "Transaction signed.\n",
      "What: 2bVUmucQlKCpFkh0QMDEopqVkzvzs6X5eWM79xqIT-Cfe2_umNpcgH6aS4g83-M4\n",
      "Transaction sent! TxID: GBSfQB9VBxFiRPYkN08YLvKA1T4ww1pgxc2WrrECN1Q\n"
     ]
    }
   ],
   "source": [
    "# === 2. Create, Sign, and Send a Test Transaction ===\n",
    "sample_data = b\"This is a test upload from our decentralized Git server MVP.\"\n",
    "\n",
    "# Create the transaction with some tags\n",
    "tx = arweave.Transaction(wallet, data=sample_data)\n",
    "tx.add_tag('Content-Type', 'text/plain')\n",
    "tx.add_tag('RepoID', 'example-repo')\n",
    "tx.add_tag('CommitHash', 'dummy-commit-hash')\n",
    "\n",
    "# Sign\n",
    "tx.sign()\n",
    "print(\"Transaction signed.\")\n",
    "\n",
    "# Send\n",
    "what = tx.send()\n",
    "print(\"What:\", what)\n",
    "txid = tx.id\n",
    "print(\"Transaction sent! TxID:\", tx.id)\n"
   ]
  },
  {
   "cell_type": "code",
   "execution_count": null,
   "metadata": {},
   "outputs": [],
   "source": []
  },
  {
   "cell_type": "code",
   "execution_count": 124,
   "metadata": {},
   "outputs": [
    {
     "name": "stdout",
     "output_type": "stream",
     "text": [
      "[Attempt 1] Tx status: None\n",
      "Transaction status not found, possibly not yet indexed. Mining another block...\n",
      "Mined 1 block(s): {\n",
      "  \"network\": \"arlocal.N.1\",\n",
      "  \"version\": 1,\n",
      "  \"release\": 1,\n",
      "  \"queue_length\": 0,\n",
      "  \"peers\": 1,\n",
      "  \"height\": 68,\n",
      "  \"current\": \"fwxd07er7mfhv173rro82uomdqa8yvjsasnxo68vf7nwjof96hicrsfp6gbq74un\",\n",
      "  \"blocks\": 69,\n",
      "  \"node_state_latency\": 0\n",
      "}\n"
     ]
    },
    {
     "name": "stdout",
     "output_type": "stream",
     "text": [
      "[Attempt 2] Tx status: None\n",
      "Transaction status not found, possibly not yet indexed. Mining another block...\n",
      "Mined 1 block(s): {\n",
      "  \"network\": \"arlocal.N.1\",\n",
      "  \"version\": 1,\n",
      "  \"release\": 1,\n",
      "  \"queue_length\": 0,\n",
      "  \"peers\": 1,\n",
      "  \"height\": 69,\n",
      "  \"current\": \"d5u3gilpykkfhjxh8uc2vntb1t253zu86bwfy62434px5y234mv215z0d1jwgdq0\",\n",
      "  \"blocks\": 70,\n",
      "  \"node_state_latency\": 0\n",
      "}\n",
      "[Attempt 3] Tx status: None\n",
      "Transaction status not found, possibly not yet indexed. Mining another block...\n",
      "Mined 1 block(s): {\n",
      "  \"network\": \"arlocal.N.1\",\n",
      "  \"version\": 1,\n",
      "  \"release\": 1,\n",
      "  \"queue_length\": 0,\n",
      "  \"peers\": 1,\n",
      "  \"height\": 70,\n",
      "  \"current\": \"8bb6itqho2eg2vg95s6tst462owlazn3u001ui9t5wxt3c90hb22kzmhfx498g7k\",\n",
      "  \"blocks\": 71,\n",
      "  \"node_state_latency\": 0\n",
      "}\n",
      "[Attempt 4] Tx status: None\n",
      "Transaction status not found, possibly not yet indexed. Mining another block...\n",
      "Mined 1 block(s): {\n",
      "  \"network\": \"arlocal.N.1\",\n",
      "  \"version\": 1,\n",
      "  \"release\": 1,\n",
      "  \"queue_length\": 0,\n",
      "  \"peers\": 1,\n",
      "  \"height\": 71,\n",
      "  \"current\": \"9luoqifzcmg30a7pmcdw5hge6xgjzra60hs302tlw2ufk5z95ytmsv2a923dhhuf\",\n",
      "  \"blocks\": 72,\n",
      "  \"node_state_latency\": 0\n",
      "}\n",
      "[Attempt 5] Tx status: None\n",
      "Transaction status not found, possibly not yet indexed. Mining another block...\n",
      "Mined 1 block(s): {\n",
      "  \"network\": \"arlocal.N.1\",\n",
      "  \"version\": 1,\n",
      "  \"release\": 1,\n",
      "  \"queue_length\": 0,\n",
      "  \"peers\": 1,\n",
      "  \"height\": 72,\n",
      "  \"current\": \"bd6tnkivy8v7vc63osvo8zaqpw4zh7escm48mfwhb2a98odqqrd9wm2vmabhui49\",\n",
      "  \"blocks\": 73,\n",
      "  \"node_state_latency\": 0\n",
      "}\n",
      "Transaction not mined after 5 attempts. You can still try to retrieve data, but it may fail.\n"
     ]
    }
   ],
   "source": [
    "# === 3. Check Transaction Status, Then Mine Blocks Until It's Confirmed ===\n",
    "\n",
    "# We'll do a loop that checks whether the transaction is known and updates on each block.\n",
    "max_attempts = 5\n",
    "attempt = 0\n",
    "is_mined = False\n",
    "\n",
    "while attempt < max_attempts:\n",
    "    # Query the transaction status\n",
    "    status = get_tx_status(txid, port)\n",
    "    print(f\"[Attempt {attempt+1}] Tx status:\", status)\n",
    "\n",
    "    # If the node doesn't return a valid JSON or says not found, we need more blocks or time.\n",
    "    if not status:\n",
    "        print(\"Transaction status not found, possibly not yet indexed. Mining another block...\")\n",
    "        mine_blocks(1, port=port)\n",
    "        time.sleep(2)\n",
    "        attempt += 1\n",
    "        continue\n",
    "\n",
    "    # If 'status' has \"block_height\" > 0 or \"confirmed\" field, that means it's mined\n",
    "    # (ArLocal's status JSON might differ from mainnet, so adapt if needed).\n",
    "    if status.get('block_height', 0) > 0 or status.get('confirmed'):\n",
    "        print(\"Transaction appears to be mined/confirmed in a block!\")\n",
    "        is_mined = True\n",
    "        break\n",
    "    else:\n",
    "        print(\"Transaction not yet mined; mining another block...\")\n",
    "        mine_blocks(1, port=port)\n",
    "        time.sleep(2)\n",
    "        attempt += 1\n",
    "\n",
    "if not is_mined:\n",
    "    print(f\"Transaction not mined after {max_attempts} attempts. You can still try to retrieve data, but it may fail.\")\n"
   ]
  },
  {
   "cell_type": "code",
   "execution_count": 125,
   "metadata": {},
   "outputs": [
    {
     "name": "stdout",
     "output_type": "stream",
     "text": [
      "Attempting to fetch data from: http://localhost:1984/GBSfQB9VBxFiRPYkN08YLvKA1T4ww1pgxc2WrrECN1Q\n",
      "[Attempt 1] 404 or not found. Status code: 404\n",
      "Mined 1 block(s): {\n",
      "  \"network\": \"arlocal.N.1\",\n",
      "  \"version\": 1,\n",
      "  \"release\": 1,\n",
      "  \"queue_length\": 0,\n",
      "  \"peers\": 1,\n",
      "  \"height\": 73,\n",
      "  \"current\": \"vwa2lsjtpej1iqw82h4szvck22ja165b2eafrls8hzf871z9xpxf0wbvmp2l8wup\",\n",
      "  \"blocks\": 74,\n",
      "  \"node_state_latency\": 0\n",
      "}\n",
      "[Attempt 2] 404 or not found. Status code: 404\n",
      "Mined 1 block(s): {\n",
      "  \"network\": \"arlocal.N.1\",\n",
      "  \"version\": 1,\n",
      "  \"release\": 1,\n",
      "  \"queue_length\": 0,\n",
      "  \"peers\": 1,\n",
      "  \"height\": 74,\n",
      "  \"current\": \"koq445c6pbn3nwz93oqtt12xcxzc5k2h9bb9yg4ujwsbf23tuuu477dq2ujzzcve\",\n",
      "  \"blocks\": 75,\n",
      "  \"node_state_latency\": 0\n",
      "}\n",
      "[Attempt 3] 404 or not found. Status code: 404\n",
      "Mined 1 block(s): {\n",
      "  \"network\": \"arlocal.N.1\",\n",
      "  \"version\": 1,\n",
      "  \"release\": 1,\n",
      "  \"queue_length\": 0,\n",
      "  \"peers\": 1,\n",
      "  \"height\": 75,\n",
      "  \"current\": \"ibszvix35jfoujaovyhc0gg20bucywrn42clepypd5w60m7aajt2b6khyc5u7mcj\",\n",
      "  \"blocks\": 76,\n",
      "  \"node_state_latency\": 0\n",
      "}\n",
      "[Attempt 4] 404 or not found. Status code: 404\n",
      "Mined 1 block(s): {\n",
      "  \"network\": \"arlocal.N.1\",\n",
      "  \"version\": 1,\n",
      "  \"release\": 1,\n",
      "  \"queue_length\": 0,\n",
      "  \"peers\": 1,\n",
      "  \"height\": 76,\n",
      "  \"current\": \"ptdvxfmgq0nssgzq7vy3x5rbc4oohxlib4275trutbjw89r14b5sok1v5231yjjv\",\n",
      "  \"blocks\": 77,\n",
      "  \"node_state_latency\": 0\n",
      "}\n",
      "[Attempt 5] 404 or not found. Status code: 404\n",
      "Mined 1 block(s): {\n",
      "  \"network\": \"arlocal.N.1\",\n",
      "  \"version\": 1,\n",
      "  \"release\": 1,\n",
      "  \"queue_length\": 0,\n",
      "  \"peers\": 1,\n",
      "  \"height\": 77,\n",
      "  \"current\": \"d4r7y5om0mhs62fmxfjkk20y0wo72r2phbp33tzv6abe0lc22b2olunnypbjd0o4\",\n",
      "  \"blocks\": 78,\n",
      "  \"node_state_latency\": 0\n",
      "}\n",
      "Could not retrieve transaction data after multiple attempts.\n"
     ]
    }
   ],
   "source": [
    "# === 4. Attempt to Retrieve the Transaction Data ===\n",
    "gateway_url = f\"http://localhost:{port}/{txid}\"\n",
    "print(\"Attempting to fetch data from:\", gateway_url)\n",
    "\n",
    "max_attempts = 5\n",
    "attempt = 0\n",
    "retrieved = False\n",
    "\n",
    "while attempt < max_attempts:\n",
    "    resp = requests.get(gateway_url)\n",
    "    if resp.status_code == 200:\n",
    "        print(\"Successfully retrieved data from ArLocal:\")\n",
    "        print(resp.content.decode())\n",
    "        retrieved = True\n",
    "        break\n",
    "    else:\n",
    "        print(f\"[Attempt {attempt+1}] 404 or not found. Status code: {resp.status_code}\")\n",
    "        # Mine another block to see if that helps indexing\n",
    "        mine_blocks(1, port=port)\n",
    "        time.sleep(2)\n",
    "    attempt += 1\n",
    "\n",
    "if not retrieved:\n",
    "    print(\"Could not retrieve transaction data after multiple attempts.\")\n"
   ]
  },
  {
   "cell_type": "code",
   "execution_count": 126,
   "metadata": {},
   "outputs": [
    {
     "data": {
      "text/plain": [
       "arweave.arweave_lib.Wallet"
      ]
     },
     "execution_count": 126,
     "metadata": {},
     "output_type": "execute_result"
    }
   ],
   "source": [
    "# def get_tx(blah):\n",
    "    # print(f\"Fetching transaction data for {tx_id}...\")\n",
    "    # resp = requests.get(\"http://localhost:1984/wallet/Bj1GnV4PFlHxEoEy9mtjumwRzhaOai9B8hUoY5tE810/balance\")\n",
    "    # https://arweave.net/wallet/{address}/last_tx\n",
    "    # resp = requests.get(f\"http://localhost:1984/wallet/{blah}/last_tx\")\n",
    "    # print(resp.text)\n",
    "    \n",
    "# get_tx(\"Bj1GnV4PFlHxEoEy9mtjumwRzhaOai9B8hUoY5tE810\")\n",
    "\n",
    "arweave.Wallet"
   ]
  }
 ],
 "metadata": {
  "kernelspec": {
   "display_name": "Python 3",
   "language": "python",
   "name": "python3"
  },
  "language_info": {
   "codemirror_mode": {
    "name": "ipython",
    "version": 3
   },
   "file_extension": ".py",
   "mimetype": "text/x-python",
   "name": "python",
   "nbconvert_exporter": "python",
   "pygments_lexer": "ipython3",
   "version": "3.12.7"
  }
 },
 "nbformat": 4,
 "nbformat_minor": 2
}
